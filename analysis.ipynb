{
 "cells": [
  {
   "cell_type": "code",
   "execution_count": null,
   "metadata": {},
   "outputs": [],
   "source": [
    "import pandas as pd\n",
    "from statsmodels.tsa.stattools import adfuller\n",
    "data = pd.read_csv(\"./data/stock_data/consolidated_stock_data.csv\", parse_dates=[\"Date\"])\n",
    "data.set_index(\"Date\", inplace=True)\n",
    "data = data.pivot(columns=\"Ticker\", values=\"Adj Close\")\n",
    "data.fillna(method=\"ffill\", inplace=True)\n",
    "data.fillna(method=\"bfill\", inplace=True)\n"
   ]
  },
  {
   "cell_type": "code",
   "execution_count": null,
   "metadata": {},
   "outputs": [],
   "source": [
    "import seaborn as sns\n",
    "import matplotlib.pyplot as plt\n",
    "\n",
    "correlation_matrix = data.corr()\n",
    "plt.figure(figsize=(12, 8))\n",
    "sns.heatmap(correlation_matrix, annot=False, cmap=\"coolwarm\", center=0, cbar=True)\n",
    "plt.title(\"Stock Correlation Heatmap\")\n",
    "plt.show()\n",
    "\n"
   ]
  },
  {
   "cell_type": "code",
   "execution_count": null,
   "metadata": {},
   "outputs": [],
   "source": [
    "\n",
    "import numpy as np\n",
    "# avoid these repetitions (take only upper del values)\n",
    "corr_unstacked = correlation_matrix.where(\n",
    "    np.triu(np.ones(correlation_matrix.shape), k=1).astype(bool)\n",
    ").stack()\n",
    "\n",
    "top_10_pairs = corr_unstacked.sort_values(ascending=False).head(10)\n",
    "print(\"Top 10 Most Correlated Pairs:\")\n",
    "print(top_10_pairs)\n"
   ]
  },
  {
   "cell_type": "code",
   "execution_count": null,
   "metadata": {},
   "outputs": [],
   "source": [
    "import statsmodels.api as sm\n",
    "from statsmodels.tsa.stattools import adfuller\n",
    "\n",
    "def cointegration_test(pair, data):\n",
    "    ticker1, ticker2 = pair\n",
    "    stock1 = data[ticker1]\n",
    "    stock2 = data[ticker2]\n",
    "\n",
    "    #regress the 2 stocks to find relationship\n",
    "    model = sm.OLS(stock1, sm.add_constant(stock2)).fit()\n",
    "    residuals = model.resid\n",
    "    \n",
    "\n",
    "    # adf test \n",
    "    adf_result = adfuller(residuals)\n",
    "    adf_statistic, p_value = adf_result[0], adf_result[1]\n",
    "    print(f\"Testing pair {ticker1}-{ticker2}: ADF Statistic = {adf_statistic}, p-value = {p_value}\")\n",
    "\n",
    "    return adf_result[1] < 0.05  # hypothesis threshold\n",
    "\n",
    "# test cointegration for top 10 correlated pairs\n",
    "cointegrated_pairs = [\n",
    "    pair for pair in top_10_pairs.index if cointegration_test(pair, data)\n",
    "]\n",
    "\n",
    "print(\"Cointegrated Pairs:\")\n",
    "print(cointegrated_pairs)\n"
   ]
  },
  {
   "cell_type": "code",
   "execution_count": null,
   "metadata": {},
   "outputs": [],
   "source": [
    "pe_ratios = {\n",
    "    'ANET': 54.34,  # Arista Networks Inc (ANET)\n",
    "    'AVGO': 197.19,  # Broadcom Inc (AVGO)\n",
    "    'MA': 40.26,  # Mastercard (MA)\n",
    "    'V': 32.75,  # Visa Inc (V)\n",
    "    'NVDA': 53.92,  # NVIDIA Corp (NVDA)\n",
    "    'PGR': 17.52,  # Progressive Corp (PGR)\n",
    "    'COST': 55.18,  # COSTCO Wholesale Corp (COST)\n",
    "    'BSX': 74.93,  # Boston Scientific Corp (BSX)\n",
    "    'GE': 29.89,  # GE Aerospace (GE)\n",
    "    'ETN': 35.60  # Eaton Corp (ETN)\n",
    "}\n",
    "cointegrated_pairs = [\n",
    "    ('ANET', 'AVGO'),\n",
    "    ('MA', 'V'),\n",
    "    ('AVGO', 'NVDA'),\n",
    "    ('ANET', 'PGR'),\n",
    "    ('ANET', 'COST'),\n",
    "    ('BSX', 'NVDA'),\n",
    "    ('BSX', 'GE'),\n",
    "    ('ANET', 'BSX')\n",
    "]\n",
    "all_pairs_with_diff = []\n",
    "\n",
    "for pair in cointegrated_pairs:\n",
    "    stock1, stock2 = pair\n",
    "    pe_diff = abs(pe_ratios[stock1] - pe_ratios[stock2])\n",
    "    all_pairs_with_diff.append((pair, pe_diff))\n",
    "all_pairs_with_diff = sorted(all_pairs_with_diff, key=lambda x: x[1])\n",
    "\n",
    "print(\"All Cointegrated Pairs Sorted by Ascending P/E Differences:\")\n",
    "for rank, (pair, pe_diff) in enumerate(all_pairs_with_diff, start=1):\n",
    "    print(f\"{rank}. Pair: {pair}, P/E Difference: {pe_diff:.2f}\")\n"
   ]
  },
  {
   "cell_type": "code",
   "execution_count": null,
   "metadata": {},
   "outputs": [],
   "source": [
    "import pandas as pd\n",
    "import pandas_datareader as pdr\n",
    "from datetime import datetime\n",
    "import yfinance as yf\n",
    "\n",
    "def get_historical_Data(tickers):\n",
    "    data = pd.DataFrame()\n",
    "    names = list()\n",
    "    for i in tickers:\n",
    "        data = pd.concat([data, pd.DataFrame(yf.download(i, start=datetime(2020, 10, 27), end=datetime(2021, 10, 27)).iloc[:,4])], axis = 1)\n",
    "        names.append(i)\n",
    "    data.columns = names\n",
    "    return data\n",
    "\n",
    "ticks = [\"MA\", \"V\",\"ANET\", \"AVGO\"] \n",
    "d = get_historical_Data(ticks)\n",
    "print(d.shape)\n",
    "d.tail()\n",
    "\n"
   ]
  }
 ],
 "metadata": {
  "kernelspec": {
   "display_name": "Python 3",
   "language": "python",
   "name": "python3"
  },
  "language_info": {
   "codemirror_mode": {
    "name": "ipython",
    "version": 3
   },
   "file_extension": ".py",
   "mimetype": "text/x-python",
   "name": "python",
   "nbconvert_exporter": "python",
   "pygments_lexer": "ipython3",
   "version": "3.9.18"
  }
 },
 "nbformat": 4,
 "nbformat_minor": 2
}
